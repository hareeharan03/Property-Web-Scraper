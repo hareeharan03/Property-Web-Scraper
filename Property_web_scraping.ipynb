{
  "nbformat": 4,
  "nbformat_minor": 0,
  "metadata": {
    "colab": {
      "provenance": []
    },
    "kernelspec": {
      "name": "python3",
      "display_name": "Python 3"
    },
    "language_info": {
      "name": "python"
    }
  },
  "cells": [
    {
      "cell_type": "markdown",
      "source": [
        "# RightMove(UK region)"
      ],
      "metadata": {
        "id": "en0FCCtGQGs6"
      }
    },
    {
      "cell_type": "code",
      "execution_count": 22,
      "metadata": {
        "colab": {
          "base_uri": "https://localhost:8080/"
        },
        "id": "14EfND6k5I2-",
        "outputId": "f2bb8757-6d11-445a-8953-0a40e30df275"
      },
      "outputs": [
        {
          "output_type": "stream",
          "name": "stdout",
          "text": [
            "HTTP GET request to URL: https://www.rightmove.co.uk/property-for-sale/find.html?locationIdentifier=REGION%5E87490&minBedrooms=4&propertyTypes=&mustHave=&dontShow=&furnishTypes=&keywords= ¦ Status code: 200\n",
            "HTTP GET request to URL: https://www.rightmove.co.uk/property-for-sale/find.html?locationIdentifier=REGION%5E87490&minBedrooms=4&propertyTypes=&mustHave=&dontShow=&furnishTypes=&keywords= ¦ Status code: 200\n",
            "HTTP GET request to URL: https://www.rightmove.co.uk/property-for-sale/find.html?locationIdentifier=REGION%5E87490&minBedrooms=4&propertyTypes=&mustHave=&dontShow=&furnishTypes=&keywords= ¦ Status code: 200\n",
            "HTTP GET request to URL: https://www.rightmove.co.uk/property-for-sale/find.html?locationIdentifier=REGION%5E87490&minBedrooms=4&propertyTypes=&mustHave=&dontShow=&furnishTypes=&keywords= ¦ Status code: 200\n",
            "HTTP GET request to URL: https://www.rightmove.co.uk/property-for-sale/find.html?locationIdentifier=REGION%5E87490&minBedrooms=4&propertyTypes=&mustHave=&dontShow=&furnishTypes=&keywords= ¦ Status code: 200\n",
            "HTTP GET request to URL: https://www.rightmove.co.uk/property-for-sale/find.html?locationIdentifier=REGION%5E87490&minBedrooms=4&propertyTypes=&mustHave=&dontShow=&furnishTypes=&keywords= ¦ Status code: 200\n",
            "HTTP GET request to URL: https://www.rightmove.co.uk/property-for-sale/find.html?locationIdentifier=REGION%5E87490&minBedrooms=4&propertyTypes=&mustHave=&dontShow=&furnishTypes=&keywords= ¦ Status code: 200\n",
            "HTTP GET request to URL: https://www.rightmove.co.uk/property-for-sale/find.html?locationIdentifier=REGION%5E87490&minBedrooms=4&propertyTypes=&mustHave=&dontShow=&furnishTypes=&keywords= ¦ Status code: 200\n",
            "HTTP GET request to URL: https://www.rightmove.co.uk/property-for-sale/find.html?locationIdentifier=REGION%5E87490&minBedrooms=4&propertyTypes=&mustHave=&dontShow=&furnishTypes=&keywords= ¦ Status code: 200\n",
            "HTTP GET request to URL: https://www.rightmove.co.uk/property-for-sale/find.html?locationIdentifier=REGION%5E87490&minBedrooms=4&propertyTypes=&mustHave=&dontShow=&furnishTypes=&keywords= ¦ Status code: 200\n",
            "HTTP GET request to URL: https://www.rightmove.co.uk/property-for-sale/find.html?locationIdentifier=REGION%5E87490&minBedrooms=4&propertyTypes=&mustHave=&dontShow=&furnishTypes=&keywords= ¦ Status code: 200\n",
            "HTTP GET request to URL: https://www.rightmove.co.uk/property-for-sale/find.html?locationIdentifier=REGION%5E87490&minBedrooms=4&propertyTypes=&mustHave=&dontShow=&furnishTypes=&keywords= ¦ Status code: 200\n",
            "HTTP GET request to URL: https://www.rightmove.co.uk/property-for-sale/find.html?locationIdentifier=REGION%5E87490&minBedrooms=4&propertyTypes=&mustHave=&dontShow=&furnishTypes=&keywords= ¦ Status code: 200\n",
            "HTTP GET request to URL: https://www.rightmove.co.uk/property-for-sale/find.html?locationIdentifier=REGION%5E87490&minBedrooms=4&propertyTypes=&mustHave=&dontShow=&furnishTypes=&keywords= ¦ Status code: 200\n",
            "HTTP GET request to URL: https://www.rightmove.co.uk/property-for-sale/find.html?locationIdentifier=REGION%5E87490&minBedrooms=4&propertyTypes=&mustHave=&dontShow=&furnishTypes=&keywords= ¦ Status code: 200\n",
            "HTTP GET request to URL: https://www.rightmove.co.uk/property-for-sale/find.html?locationIdentifier=REGION%5E87490&minBedrooms=4&propertyTypes=&mustHave=&dontShow=&furnishTypes=&keywords= ¦ Status code: 200\n",
            "HTTP GET request to URL: https://www.rightmove.co.uk/property-for-sale/find.html?locationIdentifier=REGION%5E87490&minBedrooms=4&propertyTypes=&mustHave=&dontShow=&furnishTypes=&keywords= ¦ Status code: 200\n",
            "HTTP GET request to URL: https://www.rightmove.co.uk/property-for-sale/find.html?locationIdentifier=REGION%5E87490&minBedrooms=4&propertyTypes=&mustHave=&dontShow=&furnishTypes=&keywords= ¦ Status code: 200\n",
            "HTTP GET request to URL: https://www.rightmove.co.uk/property-for-sale/find.html?locationIdentifier=REGION%5E87490&minBedrooms=4&propertyTypes=&mustHave=&dontShow=&furnishTypes=&keywords= ¦ Status code: 200\n",
            "HTTP GET request to URL: https://www.rightmove.co.uk/property-for-sale/find.html?locationIdentifier=REGION%5E87490&minBedrooms=4&propertyTypes=&mustHave=&dontShow=&furnishTypes=&keywords= ¦ Status code: 200\n",
            "HTTP GET request to URL: https://www.rightmove.co.uk/property-for-sale/find.html?locationIdentifier=REGION%5E87490&minBedrooms=4&propertyTypes=&mustHave=&dontShow=&furnishTypes=&keywords= ¦ Status code: 200\n",
            "HTTP GET request to URL: https://www.rightmove.co.uk/property-for-sale/find.html?locationIdentifier=REGION%5E87490&minBedrooms=4&propertyTypes=&mustHave=&dontShow=&furnishTypes=&keywords= ¦ Status code: 200\n",
            "HTTP GET request to URL: https://www.rightmove.co.uk/property-for-sale/find.html?locationIdentifier=REGION%5E87490&minBedrooms=4&propertyTypes=&mustHave=&dontShow=&furnishTypes=&keywords= ¦ Status code: 200\n",
            "Stored results to \"property_rightmove.csv\"\n"
          ]
        }
      ],
      "source": [
        "# -*- coding: utf-8 -*-\n",
        "\n",
        "import requests\n",
        "from bs4 import BeautifulSoup\n",
        "import csv\n",
        " \n",
        "class RightmoveScraper:\n",
        "    results = []\n",
        "    def fetch (self,url):\n",
        "        print(\"HTTP GET request to URL: %s\" %url, end=\"\")\n",
        "        response = requests.get(url)\n",
        "        print(\" ¦ Status code: %s\" %response.status_code)\n",
        "        return response\n",
        "    def parse(self,html):\n",
        "        content = BeautifulSoup(html,\"lxml\")\n",
        "        \n",
        "        titles = [title.text.strip() for title in content.findAll(\"h2\",{\"class\":\"propertyCard-title\"})]\n",
        "        address = [address [\"content\"] for address in content.findAll(\"meta\",{\"itemprop\":\"streetAddress\"})]\n",
        "        descriptions = [description.text for description in content.findAll(\"span\",{\"data-test\":\"property-description\"})]\n",
        "        prices = [price.text.strip() for price in content.findAll(\"div\", {\"class\": \"propertyCard-priceValue\"})]\n",
        "        dates = [date.text for date in content.findAll(\"span\",{\"class\": \"propertyCard-branchSummary-addedOrReduced\"})]\n",
        "        sellers = [seller.text.split(\"by\")[-1].strip() for seller in content.findAll(\"span\",{\"class\": \"propertyCard-branchSummary-branchName\"})]\n",
        "        \n",
        "        for index in range(0,len(titles)):\n",
        "            self.results.append({\n",
        "                \"title\": titles[index],\n",
        "                \"address\":address[index],\n",
        "                \"descriptions\": descriptions[index],\n",
        "                \"price\":prices[index],\n",
        "                \"date\":dates[index],\n",
        "                \"seller\":sellers[index]\n",
        "                    })\n",
        "         \n",
        "    def to_csv(self):\n",
        "        with open(\"property_rightmove.csv\",\"w\") as csv_file:\n",
        "            writer=csv.DictWriter(csv_file, fieldnames=self.results[0].keys())\n",
        "            writer.writeheader()\n",
        "            \n",
        "            for row in self.results:\n",
        "                writer.writerow(row)\n",
        "            print ('Stored results to \"property_rightmove.csv\"')\n",
        "            \n",
        "    def run(self):\n",
        "        for page in range(0, 23):\n",
        "            index = page * 24\n",
        "            #change url here\n",
        "            url=\"https://www.rightmove.co.uk/property-for-sale/find.html?locationIdentifier=REGION%5E87490&minBedrooms=4&propertyTypes=&mustHave=&dontShow=&furnishTypes=&keywords=\"\n",
        "            response = self.fetch(url)\n",
        "            self.parse(response.text)   \n",
        "            \n",
        "        self.to_csv()    \n",
        "        \n",
        "if __name__=='__main__':\n",
        "    scraper = RightmoveScraper()\n",
        "    scraper.run()"
      ]
    },
    {
      "cell_type": "markdown",
      "source": [
        "# **Rew (US region)**"
      ],
      "metadata": {
        "id": "hN12R8ZXIVeK"
      }
    },
    {
      "cell_type": "code",
      "source": [
        "# Import Libraries\n",
        "import requests\n",
        "from bs4 import BeautifulSoup\n",
        "import pandas as pd"
      ],
      "metadata": {
        "id": "TsQ7SAAiIZzd"
      },
      "execution_count": 1,
      "outputs": []
    },
    {
      "cell_type": "code",
      "source": [
        "# Locating the number of pages\n",
        "def find_pages(url):\n",
        "  import time\n",
        "  import re\n",
        "  n_url=url\n",
        "  page = ''\n",
        "  while page == '':\n",
        "    try:\n",
        "        r = requests.get(n_url)\n",
        "        c = r.content\n",
        "        break\n",
        "    except:\n",
        "        print(\"Connection refused by the server..\")\n",
        "        print(\"Let me sleep for 5 seconds\")\n",
        "        print(\"ZZzzzz...\")\n",
        "        time.sleep(5)\n",
        "        print(\"Was a nice sleep, now let me continue...\")\n",
        "        continue\n",
        "  \n",
        "  # Cleaning the URL\n",
        "  soup = BeautifulSoup(c, \"html.parser\")\n",
        "  \n",
        "  # Search for the link with the info.\n",
        "  n_pageStr = soup.find_all(\"a\",{\"class\":\"visible-xs\"})\n",
        "  \n",
        "  pages= (n_pageStr[0].text.replace(\" \",\"\"))\n",
        "  \n",
        "  pattern = r'[0-1a-z]'\n",
        "  # Replace all occurrences of character s with an empty string\n",
        "  mod_string = re.sub(pattern, '', pages )\n",
        "\n",
        "  return (mod_string)"
      ],
      "metadata": {
        "id": "LGjYOyW8Ic-d"
      },
      "execution_count": 14,
      "outputs": []
    },
    {
      "cell_type": "code",
      "source": [
        "print(240*\"-\")\n",
        "print(\"Enter the URL\")\n",
        "user_input=str(input())\n",
        "print(240*\"-\")\n",
        "base_url = user_input+\"/page/\"\n",
        "\n",
        "# Defining List:\n",
        "list = []\n",
        " \n",
        "# Interating with each page\n",
        "for page in range(1, int(find_pages(user_input))):\n",
        "    \n",
        "    # Printing the current page of interation\n",
        "    print(base_url+str(page))\n",
        "    \n",
        "    # Getting and Cleaning the page content\n",
        "    r = requests.get(base_url+str(page))\n",
        "    c = r.content\n",
        "    soup = BeautifulSoup(c, \"html.parser\")\n",
        "    \n",
        "    # Assigning Main TAG of the resources\n",
        "    all = soup.find_all(\"div\",{\"class\":\"displaypanel-wrapper\"})\n",
        " \n",
        "    # Interating with each item of the tag:\n",
        "    for item in all:\n",
        "        # Defining temp list\n",
        "        d = {}\n",
        "        \n",
        "        # Getting the Price\n",
        "        d[\"Price\"] = int(item.find(\"div\",{\"class\":\"displaypanel-price\"}).text.replace(\"\\n\",\"\").replace(\"$\",\"\").replace(\",\",\"\"))\n",
        " \n",
        "        # Getting the Address\n",
        "        d[\"Address\"] = item.find_all(\"a\")[0][\"title\"]\n",
        "\n",
        "        #getting pincode\n",
        "        Postal_Code = item.find_all(\"a\")[0][\"title\"]\n",
        "        d[\"Postal Code\"]=Postal_Code[-7:]\n",
        "        \n",
        "        # Assigning a specific location of the other details\n",
        "        details = item.find_all(\"ul\",{\"class\":\"inlinelist\"})[1].find_all(\"li\")\n",
        "        for i in range(len(details)):\n",
        "            \n",
        "            # Getting the Bedroom\n",
        "            if 'bd' in details[i].text:\n",
        "                d[\"Bedroom\"] = details[i].text.replace(\" bd\",\"\")\n",
        "                \n",
        "            # Getting the Bathroom\n",
        "            elif 'ba' in details[i].text:\n",
        "                d[\"Bathroom\"] = details[i].text.replace(\" ba\",\"\")\n",
        "                \n",
        "            # Getting the Square Foot\n",
        "            elif 'sf' in details[i].text:\n",
        "                d[\"Square Foot\"] = details[i].text.replace(\" sf\",\"\")\n",
        "                \n",
        "            # Getting the Feet\n",
        "            elif 'ft' in details[i].text:\n",
        "                d[\"Feet\"] = details[i].text.replace(\" ft\",\"\")\n",
        " \n",
        "        # Finally, adding the temp. dic (item dic) of each item to the main dic (list)\n",
        "        list.append(d)\n",
        "\n",
        "# Transforming the dic into a dataframe\n",
        "df = pd.DataFrame(list)\n",
        " \n",
        "#droping empty data and resetting index\n",
        "df.dropna(inplace = True)\n",
        "df.reset_index(drop=True,inplace = True)\n",
        "\n",
        "# Saving the data on CSV file\n",
        "df.to_csv(\"properties_rew.csv\")\n",
        "        "
      ],
      "metadata": {
        "colab": {
          "base_uri": "https://localhost:8080/"
        },
        "id": "amS4oLwcIh7_",
        "outputId": "00bc9ae9-2f61-404a-be5b-f11d827b3e67"
      },
      "execution_count": 21,
      "outputs": [
        {
          "output_type": "stream",
          "name": "stdout",
          "text": [
            "------------------------------------------------------------------------------------------------------------------------------------------------------------------------------------------------------------------------------------------------\n",
            "Enter the URL\n",
            "https://www.rew.ca/properties/areas/north-york-toronto-on\n",
            "------------------------------------------------------------------------------------------------------------------------------------------------------------------------------------------------------------------------------------------------\n",
            "https://www.rew.ca/properties/areas/north-york-toronto-on/page/1\n",
            "https://www.rew.ca/properties/areas/north-york-toronto-on/page/2\n",
            "https://www.rew.ca/properties/areas/north-york-toronto-on/page/3\n",
            "https://www.rew.ca/properties/areas/north-york-toronto-on/page/4\n",
            "https://www.rew.ca/properties/areas/north-york-toronto-on/page/5\n",
            "https://www.rew.ca/properties/areas/north-york-toronto-on/page/6\n",
            "https://www.rew.ca/properties/areas/north-york-toronto-on/page/7\n",
            "https://www.rew.ca/properties/areas/north-york-toronto-on/page/8\n",
            "https://www.rew.ca/properties/areas/north-york-toronto-on/page/9\n",
            "https://www.rew.ca/properties/areas/north-york-toronto-on/page/10\n",
            "https://www.rew.ca/properties/areas/north-york-toronto-on/page/11\n",
            "https://www.rew.ca/properties/areas/north-york-toronto-on/page/12\n",
            "https://www.rew.ca/properties/areas/north-york-toronto-on/page/13\n",
            "https://www.rew.ca/properties/areas/north-york-toronto-on/page/14\n",
            "https://www.rew.ca/properties/areas/north-york-toronto-on/page/15\n",
            "https://www.rew.ca/properties/areas/north-york-toronto-on/page/16\n",
            "https://www.rew.ca/properties/areas/north-york-toronto-on/page/17\n",
            "https://www.rew.ca/properties/areas/north-york-toronto-on/page/18\n",
            "https://www.rew.ca/properties/areas/north-york-toronto-on/page/19\n",
            "https://www.rew.ca/properties/areas/north-york-toronto-on/page/20\n",
            "https://www.rew.ca/properties/areas/north-york-toronto-on/page/21\n",
            "https://www.rew.ca/properties/areas/north-york-toronto-on/page/22\n",
            "https://www.rew.ca/properties/areas/north-york-toronto-on/page/23\n",
            "https://www.rew.ca/properties/areas/north-york-toronto-on/page/24\n"
          ]
        }
      ]
    }
  ]
}